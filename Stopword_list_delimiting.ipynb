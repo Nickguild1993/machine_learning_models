{
  "nbformat": 4,
  "nbformat_minor": 0,
  "metadata": {
    "colab": {
      "provenance": [],
      "authorship_tag": "ABX9TyOazVEsBhg9lIMdPR1uIQxX",
      "include_colab_link": true
    },
    "kernelspec": {
      "name": "python3",
      "display_name": "Python 3"
    },
    "language_info": {
      "name": "python"
    }
  },
  "cells": [
    {
      "cell_type": "markdown",
      "metadata": {
        "id": "view-in-github",
        "colab_type": "text"
      },
      "source": [
        "<a href=\"https://colab.research.google.com/github/Nickguild1993/machine_learning_models/blob/main/Stopword_list_delimiting.ipynb\" target=\"_parent\"><img src=\"https://colab.research.google.com/assets/colab-badge.svg\" alt=\"Open In Colab\"/></a>"
      ]
    },
    {
      "cell_type": "markdown",
      "source": [
        "# Importing a comprehensive list of stop words and delimiting them\n",
        "\n",
        "---\n",
        "\n"
      ],
      "metadata": {
        "id": "_T2OCIOjDCWa"
      }
    },
    {
      "cell_type": "markdown",
      "source": [
        "#### THIS SHOULD NOT BE USED FOR SENTIMENT ANALYSIS BECUASE IT PRUNES WORD THAT IMPLY NEGATION!!!!"
      ],
      "metadata": {
        "id": "gWZqItYJL0SL"
      }
    },
    {
      "cell_type": "code",
      "execution_count": 17,
      "metadata": {
        "id": "xj1kOqIKC-kj"
      },
      "outputs": [],
      "source": [
        "import pandas as pd\n",
        "import numpy as np\n",
        "import regex\n",
        "import csv"
      ]
    },
    {
      "cell_type": "code",
      "source": [
        "# mount drive to access local file\n",
        "from google.colab import drive\n",
        "drive.mount('/content/drive')"
      ],
      "metadata": {
        "colab": {
          "base_uri": "https://localhost:8080/"
        },
        "id": "j8cT6a5lDNBT",
        "outputId": "8a9473e3-6453-4b86-cece-02452c8df778"
      },
      "execution_count": 2,
      "outputs": [
        {
          "output_type": "stream",
          "name": "stdout",
          "text": [
            "Mounted at /content/drive\n"
          ]
        }
      ]
    },
    {
      "cell_type": "code",
      "source": [
        "from google.colab import files\n",
        "files.upload()"
      ],
      "metadata": {
        "colab": {
          "base_uri": "https://localhost:8080/",
          "height": 275
        },
        "id": "BPkTztNaDWZr",
        "outputId": "89e9ac79-7c5c-4aa1-e5f2-2b6c25ce93d9"
      },
      "execution_count": 4,
      "outputs": [
        {
          "output_type": "display_data",
          "data": {
            "text/plain": [
              "<IPython.core.display.HTML object>"
            ],
            "text/html": [
              "\n",
              "     <input type=\"file\" id=\"files-67c1c5be-7ed8-4202-85e6-e645bb366948\" name=\"files[]\" multiple disabled\n",
              "        style=\"border:none\" />\n",
              "     <output id=\"result-67c1c5be-7ed8-4202-85e6-e645bb366948\">\n",
              "      Upload widget is only available when the cell has been executed in the\n",
              "      current browser session. Please rerun this cell to enable.\n",
              "      </output>\n",
              "      <script>// Copyright 2017 Google LLC\n",
              "//\n",
              "// Licensed under the Apache License, Version 2.0 (the \"License\");\n",
              "// you may not use this file except in compliance with the License.\n",
              "// You may obtain a copy of the License at\n",
              "//\n",
              "//      http://www.apache.org/licenses/LICENSE-2.0\n",
              "//\n",
              "// Unless required by applicable law or agreed to in writing, software\n",
              "// distributed under the License is distributed on an \"AS IS\" BASIS,\n",
              "// WITHOUT WARRANTIES OR CONDITIONS OF ANY KIND, either express or implied.\n",
              "// See the License for the specific language governing permissions and\n",
              "// limitations under the License.\n",
              "\n",
              "/**\n",
              " * @fileoverview Helpers for google.colab Python module.\n",
              " */\n",
              "(function(scope) {\n",
              "function span(text, styleAttributes = {}) {\n",
              "  const element = document.createElement('span');\n",
              "  element.textContent = text;\n",
              "  for (const key of Object.keys(styleAttributes)) {\n",
              "    element.style[key] = styleAttributes[key];\n",
              "  }\n",
              "  return element;\n",
              "}\n",
              "\n",
              "// Max number of bytes which will be uploaded at a time.\n",
              "const MAX_PAYLOAD_SIZE = 100 * 1024;\n",
              "\n",
              "function _uploadFiles(inputId, outputId) {\n",
              "  const steps = uploadFilesStep(inputId, outputId);\n",
              "  const outputElement = document.getElementById(outputId);\n",
              "  // Cache steps on the outputElement to make it available for the next call\n",
              "  // to uploadFilesContinue from Python.\n",
              "  outputElement.steps = steps;\n",
              "\n",
              "  return _uploadFilesContinue(outputId);\n",
              "}\n",
              "\n",
              "// This is roughly an async generator (not supported in the browser yet),\n",
              "// where there are multiple asynchronous steps and the Python side is going\n",
              "// to poll for completion of each step.\n",
              "// This uses a Promise to block the python side on completion of each step,\n",
              "// then passes the result of the previous step as the input to the next step.\n",
              "function _uploadFilesContinue(outputId) {\n",
              "  const outputElement = document.getElementById(outputId);\n",
              "  const steps = outputElement.steps;\n",
              "\n",
              "  const next = steps.next(outputElement.lastPromiseValue);\n",
              "  return Promise.resolve(next.value.promise).then((value) => {\n",
              "    // Cache the last promise value to make it available to the next\n",
              "    // step of the generator.\n",
              "    outputElement.lastPromiseValue = value;\n",
              "    return next.value.response;\n",
              "  });\n",
              "}\n",
              "\n",
              "/**\n",
              " * Generator function which is called between each async step of the upload\n",
              " * process.\n",
              " * @param {string} inputId Element ID of the input file picker element.\n",
              " * @param {string} outputId Element ID of the output display.\n",
              " * @return {!Iterable<!Object>} Iterable of next steps.\n",
              " */\n",
              "function* uploadFilesStep(inputId, outputId) {\n",
              "  const inputElement = document.getElementById(inputId);\n",
              "  inputElement.disabled = false;\n",
              "\n",
              "  const outputElement = document.getElementById(outputId);\n",
              "  outputElement.innerHTML = '';\n",
              "\n",
              "  const pickedPromise = new Promise((resolve) => {\n",
              "    inputElement.addEventListener('change', (e) => {\n",
              "      resolve(e.target.files);\n",
              "    });\n",
              "  });\n",
              "\n",
              "  const cancel = document.createElement('button');\n",
              "  inputElement.parentElement.appendChild(cancel);\n",
              "  cancel.textContent = 'Cancel upload';\n",
              "  const cancelPromise = new Promise((resolve) => {\n",
              "    cancel.onclick = () => {\n",
              "      resolve(null);\n",
              "    };\n",
              "  });\n",
              "\n",
              "  // Wait for the user to pick the files.\n",
              "  const files = yield {\n",
              "    promise: Promise.race([pickedPromise, cancelPromise]),\n",
              "    response: {\n",
              "      action: 'starting',\n",
              "    }\n",
              "  };\n",
              "\n",
              "  cancel.remove();\n",
              "\n",
              "  // Disable the input element since further picks are not allowed.\n",
              "  inputElement.disabled = true;\n",
              "\n",
              "  if (!files) {\n",
              "    return {\n",
              "      response: {\n",
              "        action: 'complete',\n",
              "      }\n",
              "    };\n",
              "  }\n",
              "\n",
              "  for (const file of files) {\n",
              "    const li = document.createElement('li');\n",
              "    li.append(span(file.name, {fontWeight: 'bold'}));\n",
              "    li.append(span(\n",
              "        `(${file.type || 'n/a'}) - ${file.size} bytes, ` +\n",
              "        `last modified: ${\n",
              "            file.lastModifiedDate ? file.lastModifiedDate.toLocaleDateString() :\n",
              "                                    'n/a'} - `));\n",
              "    const percent = span('0% done');\n",
              "    li.appendChild(percent);\n",
              "\n",
              "    outputElement.appendChild(li);\n",
              "\n",
              "    const fileDataPromise = new Promise((resolve) => {\n",
              "      const reader = new FileReader();\n",
              "      reader.onload = (e) => {\n",
              "        resolve(e.target.result);\n",
              "      };\n",
              "      reader.readAsArrayBuffer(file);\n",
              "    });\n",
              "    // Wait for the data to be ready.\n",
              "    let fileData = yield {\n",
              "      promise: fileDataPromise,\n",
              "      response: {\n",
              "        action: 'continue',\n",
              "      }\n",
              "    };\n",
              "\n",
              "    // Use a chunked sending to avoid message size limits. See b/62115660.\n",
              "    let position = 0;\n",
              "    do {\n",
              "      const length = Math.min(fileData.byteLength - position, MAX_PAYLOAD_SIZE);\n",
              "      const chunk = new Uint8Array(fileData, position, length);\n",
              "      position += length;\n",
              "\n",
              "      const base64 = btoa(String.fromCharCode.apply(null, chunk));\n",
              "      yield {\n",
              "        response: {\n",
              "          action: 'append',\n",
              "          file: file.name,\n",
              "          data: base64,\n",
              "        },\n",
              "      };\n",
              "\n",
              "      let percentDone = fileData.byteLength === 0 ?\n",
              "          100 :\n",
              "          Math.round((position / fileData.byteLength) * 100);\n",
              "      percent.textContent = `${percentDone}% done`;\n",
              "\n",
              "    } while (position < fileData.byteLength);\n",
              "  }\n",
              "\n",
              "  // All done.\n",
              "  yield {\n",
              "    response: {\n",
              "      action: 'complete',\n",
              "    }\n",
              "  };\n",
              "}\n",
              "\n",
              "scope.google = scope.google || {};\n",
              "scope.google.colab = scope.google.colab || {};\n",
              "scope.google.colab._files = {\n",
              "  _uploadFiles,\n",
              "  _uploadFilesContinue,\n",
              "};\n",
              "})(self);\n",
              "</script> "
            ]
          },
          "metadata": {}
        },
        {
          "output_type": "stream",
          "name": "stdout",
          "text": [
            "Saving stopwords.txt to stopwords.txt\n"
          ]
        },
        {
          "output_type": "execute_result",
          "data": {
            "text/plain": [
              "{'stopwords.txt': b'x\\r\\ny\\r\\nyour\\r\\nyours\\r\\nyourself\\r\\nyourselves\\r\\nyou\\r\\nyond\\r\\nyonder\\r\\nyon\\r\\nye\\r\\nyet\\r\\nz\\r\\nzillion\\r\\nj\\r\\nu\\r\\numpteen\\r\\nusually\\r\\nus\\r\\nusername\\r\\nuponed\\r\\nupons\\r\\nuponing\\r\\nupon\\r\\nups\\r\\nupping\\r\\nupped\\r\\nup\\r\\nunto\\r\\nuntil\\r\\nunless\\r\\nunlike\\r\\nunliker\\r\\nunlikest\\r\\nunder\\r\\nunderneath\\r\\nuse\\r\\nused\\r\\nusedest\\r\\nr\\r\\nrath\\r\\nrather\\r\\nrathest\\r\\nrathe\\r\\nre\\r\\nrelate\\r\\nrelated\\r\\nrelatively\\r\\nregarding\\r\\nreally\\r\\nres\\r\\nrespecting\\r\\nrespectively\\r\\nq\\r\\nquite\\r\\nque\\r\\nqua\\r\\nn\\r\\nneither\\r\\nneaths\\r\\nneath\\r\\nnethe\\r\\nnethermost\\r\\nnecessary\\r\\nnecessariest\\r\\nnecessarier\\r\\nnever\\r\\nnevertheless\\r\\nnigh\\r\\nnighest\\r\\nnigher\\r\\nnine\\r\\nnoone\\r\\nnobody\\r\\nnobodies\\r\\nnowhere\\r\\nnowheres\\r\\nno\\r\\nnoes\\r\\nnor\\r\\nnos\\r\\nno-one\\r\\nnone\\r\\nnot\\r\\nnotwithstanding\\r\\nnothings\\r\\nnothing\\r\\nnathless\\r\\nnatheless\\r\\nt\\r\\nten\\r\\ntills\\r\\ntill\\r\\ntilled\\r\\ntilling\\r\\nto\\r\\ntowards\\r\\ntoward\\r\\ntowardest\\r\\ntowarder\\r\\ntogether\\r\\ntoo\\r\\nthy\\r\\nthyself\\r\\nthus\\r\\nthan\\r\\nthat\\r\\nthose\\r\\nthou\\r\\nthough\\r\\nthous\\r\\nthouses\\r\\nthoroughest\\r\\nthorougher\\r\\nthorough\\r\\nthoroughly\\r\\nthru\\r\\nthruer\\r\\nthruest\\r\\nthro\\r\\nthrough\\r\\nthroughout\\r\\nthroughest\\r\\nthrougher\\r\\nthine\\r\\nthis\\r\\nthises\\r\\nthey\\r\\nthee\\r\\nthe\\r\\nthen\\r\\nthence\\r\\nthenest\\r\\nthener\\r\\nthem\\r\\nthemselves\\r\\nthese\\r\\ntherer\\r\\nthere\\r\\nthereby\\r\\ntherest\\r\\nthereafter\\r\\ntherein\\r\\nthereupon\\r\\ntherefore\\r\\ntheir\\r\\ntheirs\\r\\nthing\\r\\nthings\\r\\nthree\\r\\ntwo\\r\\no\\r\\noh\\r\\nowt\\r\\nowning\\r\\nowned\\r\\nown\\r\\nowns\\r\\nothers\\r\\nother\\r\\notherwise\\r\\notherwisest\\r\\notherwiser\\r\\nof\\r\\noften\\r\\noftener\\r\\noftenest\\r\\noff\\r\\noffs\\r\\noffest\\r\\none\\r\\nought\\r\\noughts\\r\\nour\\r\\nours\\r\\nourselves\\r\\nourself\\r\\nout\\r\\noutest\\r\\nouted\\r\\noutwith\\r\\nouts\\r\\noutside\\r\\nover\\r\\noverallest\\r\\noveraller\\r\\noveralls\\r\\noverall\\r\\novers\\r\\nor\\r\\norer\\r\\norest\\r\\non\\r\\noneself\\r\\nonest\\r\\nons\\r\\nonto\\r\\na\\r\\natween\\r\\nat\\r\\nathwart\\r\\natop\\r\\nafore\\r\\nafterward\\r\\nafterwards\\r\\nafter\\r\\nafterest\\r\\nafterer\\r\\nain\\r\\nan\\r\\nany\\r\\nanything\\r\\nanybody\\r\\nanyone\\r\\nanyhow\\r\\nanywhere\\r\\nanent\\r\\nanear\\r\\nand\\r\\nandor\\r\\nanother\\r\\naround\\r\\nares\\r\\nare\\r\\naest\\r\\naer\\r\\nagainst\\r\\nagain\\r\\naccordingly\\r\\nabaft\\r\\nabafter\\r\\nabaftest\\r\\nabovest\\r\\nabove\\r\\nabover\\r\\nabouter\\r\\naboutest\\r\\nabout\\r\\naid\\r\\namidst\\r\\namid\\r\\namong\\r\\namongst\\r\\napartest\\r\\naparter\\r\\napart\\r\\nappeared\\r\\nappears\\r\\nappear\\r\\nappearing\\r\\nappropriating\\r\\nappropriate\\r\\nappropriatest\\r\\nappropriates\\r\\nappropriater\\r\\nappropriated\\r\\nalready\\r\\nalways\\r\\nalso\\r\\nalong\\r\\nalongside\\r\\nalthough\\r\\nalmost\\r\\nall\\r\\nallest\\r\\naller\\r\\nallyou\\r\\nalls\\r\\nalbeit\\r\\nawfully\\r\\nas\\r\\naside\\r\\nasides\\r\\naslant\\r\\nases\\r\\nastrider\\r\\nastride\\r\\nastridest\\r\\nastraddlest\\r\\nastraddler\\r\\nastraddle\\r\\navailablest\\r\\navailabler\\r\\navailable\\r\\naughts\\r\\naught\\r\\nvs\\r\\nv\\r\\nvariousest\\r\\nvariouser\\r\\nvarious\\r\\nvia\\r\\nvis-a-vis\\r\\nvis-a-viser\\r\\nvis-a-visest\\r\\nviz\\r\\nvery\\r\\nveriest\\r\\nverier\\r\\nversus\\r\\nk\\r\\ng\\r\\ngo\\r\\ngone\\r\\ngood\\r\\ngot\\r\\ngotta\\r\\ngotten\\r\\nget\\r\\ngets\\r\\ngetting\\r\\nb\\r\\nby\\r\\nbyandby\\r\\nby-and-by\\r\\nbist\\r\\nboth\\r\\nbut\\r\\nbuts\\r\\nbe\\r\\nbeyond\\r\\nbecause\\r\\nbecame\\r\\nbecomes\\r\\nbecome\\r\\nbecoming\\r\\nbecomings\\r\\nbecominger\\r\\nbecomingest\\r\\nbehind\\r\\nbehinds\\r\\nbefore\\r\\nbeforehand\\r\\nbeforehandest\\r\\nbeforehander\\r\\nbettered\\r\\nbetters\\r\\nbetter\\r\\nbettering\\r\\nbetwixt\\r\\nbetween\\r\\nbeneath\\r\\nbeen\\r\\nbelow\\r\\nbesides\\r\\nbeside\\r\\nm\\r\\nmy\\r\\nmyself\\r\\nmucher\\r\\nmuchest\\r\\nmuch\\r\\nmust\\r\\nmusts\\r\\nmusths\\r\\nmusth\\r\\nmain\\r\\nmake\\r\\nmayest\\r\\nmany\\r\\nmauger\\r\\nmaugre\\r\\nme\\r\\nmeanwhiles\\r\\nmeanwhile\\r\\nmostly\\r\\nmost\\r\\nmoreover\\r\\nmore\\r\\nmight\\r\\nmights\\r\\nmidst\\r\\nmidsts\\r\\nh\\r\\nhuh\\r\\nhumph\\r\\nhe\\r\\nhers\\r\\nherself\\r\\nher\\r\\nhereby\\r\\nherein\\r\\nhereafters\\r\\nhereafter\\r\\nhereupon\\r\\nhence\\r\\nhadst\\r\\nhad\\r\\nhaving\\r\\nhaves\\r\\nhave\\r\\nhas\\r\\nhast\\r\\nhardly\\r\\nhae\\r\\nhath\\r\\nhim\\r\\nhimself\\r\\nhither\\r\\nhitherest\\r\\nhitherer\\r\\nhis\\r\\nhow-do-you-do\\r\\nhowever\\r\\nhow\\r\\nhowbeit\\r\\nhowdoyoudo\\r\\nhoos\\r\\nhoo\\r\\nw\\r\\nwoulded\\r\\nwoulding\\r\\nwould\\r\\nwoulds\\r\\nwas\\r\\nwast\\r\\nwe\\r\\nwert\\r\\nwere\\r\\nwith\\r\\nwithal\\r\\nwithout\\r\\nwithin\\r\\nwhy\\r\\nwhat\\r\\nwhatever\\r\\nwhateverer\\r\\nwhateverest\\r\\nwhatsoeverer\\r\\nwhatsoeverest\\r\\nwhatsoever\\r\\nwhence\\r\\nwhencesoever\\r\\nwhenever\\r\\nwhensoever\\r\\nwhen\\r\\nwhenas\\r\\nwhether\\r\\nwheen\\r\\nwhereto\\r\\nwhereupon\\r\\nwherever\\r\\nwhereon\\r\\nwhereof\\r\\nwhere\\r\\nwhereby\\r\\nwherewithal\\r\\nwherewith\\r\\nwhereinto\\r\\nwherein\\r\\nwhereafter\\r\\nwhereas\\r\\nwheresoever\\r\\nwherefrom\\r\\nwhich\\r\\nwhichever\\r\\nwhichsoever\\r\\nwhilst\\r\\nwhile\\r\\nwhiles\\r\\nwhithersoever\\r\\nwhither\\r\\nwhoever\\r\\nwhosoever\\r\\nwhoso\\r\\nwhose\\r\\nwhomever\\r\\ns\\r\\nsyne\\r\\nsyn\\r\\nshalling\\r\\nshall\\r\\nshalled\\r\\nshalls\\r\\nshoulding\\r\\nshould\\r\\nshoulded\\r\\nshoulds\\r\\nshe\\r\\nsayyid\\r\\nsayid\\r\\nsaid\\r\\nsaider\\r\\nsaidest\\r\\nsame\\r\\nsamest\\r\\nsames\\r\\nsamer\\r\\nsaved\\r\\nsans\\r\\nsanses\\r\\nsanserifs\\r\\nsanserif\\r\\nso\\r\\nsoer\\r\\nsoest\\r\\nsobeit\\r\\nsomeone\\r\\nsomebody\\r\\nsomehow\\r\\nsome\\r\\nsomewhere\\r\\nsomewhat\\r\\nsomething\\r\\nsometimest\\r\\nsometimes\\r\\nsometimer\\r\\nsometime\\r\\nseveral\\r\\nseveraler\\r\\nseveralest\\r\\nserious\\r\\nseriousest\\r\\nseriouser\\r\\nsenza\\r\\nsend\\r\\nsent\\r\\nseem\\r\\nseems\\r\\nseemed\\r\\nseemingest\\r\\nseeminger\\r\\nseemings\\r\\nseven\\r\\nsummat\\r\\nsups\\r\\nsup\\r\\nsupping\\r\\nsupped\\r\\nsuch\\r\\nsince\\r\\nsine\\r\\nsines\\r\\nsith\\r\\nsix\\r\\nstop\\r\\nstopped\\r\\np\\r\\nplaintiff\\r\\nplenty\\r\\nplenties\\r\\nplease\\r\\npleased\\r\\npleases\\r\\nper\\r\\nperhaps\\r\\nparticulars\\r\\nparticularly\\r\\nparticular\\r\\nparticularest\\r\\nparticularer\\r\\npro\\r\\nproviding\\r\\nprovides\\r\\nprovided\\r\\nprovide\\r\\nprobably\\r\\nl\\r\\nlayabout\\r\\nlayabouts\\r\\nlatter\\r\\nlatterest\\r\\nlatterer\\r\\nlatterly\\r\\nlatters\\r\\nlots\\r\\nlotting\\r\\nlotted\\r\\nlot\\r\\nlest\\r\\nless\\r\\nie\\r\\nifs\\r\\nif\\r\\ni\\r\\ninfo\\r\\ninformation\\r\\nitself\\r\\nits\\r\\nit\\r\\nis\\r\\nidem\\r\\nidemer\\r\\nidemest\\r\\nimmediate\\r\\nimmediately\\r\\nimmediatest\\r\\nimmediater\\r\\nin\\r\\ninwards\\r\\ninwardest\\r\\ninwarder\\r\\ninward\\r\\ninasmuch\\r\\ninto\\r\\ninstead\\r\\ninsofar\\r\\nindicates\\r\\nindicated\\r\\nindicate\\r\\nindicating\\r\\nindeed\\r\\ninc\\r\\nf\\r\\nfact\\r\\nfacts\\r\\nfs\\r\\nfigupon\\r\\nfigupons\\r\\nfiguponing\\r\\nfiguponed\\r\\nfew\\r\\nfewer\\r\\nfewest\\r\\nfrae\\r\\nfrom\\r\\nfailing\\r\\nfailings\\r\\nfive\\r\\nfurthers\\r\\nfurtherer\\r\\nfurthered\\r\\nfurtherest\\r\\nfurther\\r\\nfurthering\\r\\nfurthermore\\r\\nfourscore\\r\\nfollowthrough\\r\\nfor\\r\\nforwhy\\r\\nfornenst\\r\\nformerly\\r\\nformer\\r\\nformerer\\r\\nformerest\\r\\nformers\\r\\nforbye\\r\\nforby\\r\\nfore\\r\\nforever\\r\\nforer\\r\\nfores\\r\\nfour\\r\\nd\\r\\nddays\\r\\ndday\\r\\ndo\\r\\ndoing\\r\\ndoings\\r\\ndoe\\r\\ndoes\\r\\ndoth\\r\\ndownwarder\\r\\ndownwardest\\r\\ndownward\\r\\ndownwards\\r\\ndowns\\r\\ndone\\r\\ndoner\\r\\ndones\\r\\ndonest\\r\\ndos\\r\\ndost\\r\\ndid\\r\\ndifferentest\\r\\ndifferenter\\r\\ndifferent\\r\\ndescribing\\r\\ndescribe\\r\\ndescribes\\r\\ndescribed\\r\\ndespiting\\r\\ndespites\\r\\ndespited\\r\\ndespite\\r\\nduring\\r\\nc\\r\\ncum\\r\\ncirca\\r\\nchez\\r\\ncer\\r\\ncertain\\r\\ncertainest\\r\\ncertainer\\r\\ncest\\r\\ncanst\\r\\ncannot\\r\\ncant\\r\\ncants\\r\\ncanting\\r\\ncantest\\r\\ncanted\\r\\nco\\r\\ncould\\r\\ncouldst\\r\\ncomeon\\r\\ncomeons\\r\\ncome-ons\\r\\ncome-on\\r\\nconcerning\\r\\nconcerninger\\r\\nconcerningest\\r\\nconsequently\\r\\nconsidering\\r\\ne\\r\\neg\\r\\neight\\r\\neither\\r\\neven\\r\\nevens\\r\\nevenser\\r\\nevensest\\r\\nevened\\r\\nevenest\\r\\never\\r\\neveryone\\r\\neverything\\r\\neverybody\\r\\neverywhere\\r\\nevery\\r\\nere\\r\\neach\\r\\net\\r\\netc\\r\\nelsewhere\\r\\nelse\\r\\nex\\r\\nexcepted\\r\\nexcepts\\r\\nexcept\\r\\nexcepting\\r\\nexes\\r\\nenough'}"
            ]
          },
          "metadata": {},
          "execution_count": 4
        }
      ]
    },
    {
      "cell_type": "code",
      "source": [
        "words = pd.read_csv('/content/stopwords.txt')\n",
        "words[:5]"
      ],
      "metadata": {
        "colab": {
          "base_uri": "https://localhost:8080/",
          "height": 206
        },
        "id": "chxxft7LDyi_",
        "outputId": "95953a6a-36e7-40ce-c1bb-b2b3035b4c1d"
      },
      "execution_count": 8,
      "outputs": [
        {
          "output_type": "execute_result",
          "data": {
            "text/plain": [
              "            x\n",
              "0           y\n",
              "1        your\n",
              "2       yours\n",
              "3    yourself\n",
              "4  yourselves"
            ],
            "text/html": [
              "\n",
              "  <div id=\"df-9aeb8daf-f0b1-4b65-9090-570a77b05052\" class=\"colab-df-container\">\n",
              "    <div>\n",
              "<style scoped>\n",
              "    .dataframe tbody tr th:only-of-type {\n",
              "        vertical-align: middle;\n",
              "    }\n",
              "\n",
              "    .dataframe tbody tr th {\n",
              "        vertical-align: top;\n",
              "    }\n",
              "\n",
              "    .dataframe thead th {\n",
              "        text-align: right;\n",
              "    }\n",
              "</style>\n",
              "<table border=\"1\" class=\"dataframe\">\n",
              "  <thead>\n",
              "    <tr style=\"text-align: right;\">\n",
              "      <th></th>\n",
              "      <th>x</th>\n",
              "    </tr>\n",
              "  </thead>\n",
              "  <tbody>\n",
              "    <tr>\n",
              "      <th>0</th>\n",
              "      <td>y</td>\n",
              "    </tr>\n",
              "    <tr>\n",
              "      <th>1</th>\n",
              "      <td>your</td>\n",
              "    </tr>\n",
              "    <tr>\n",
              "      <th>2</th>\n",
              "      <td>yours</td>\n",
              "    </tr>\n",
              "    <tr>\n",
              "      <th>3</th>\n",
              "      <td>yourself</td>\n",
              "    </tr>\n",
              "    <tr>\n",
              "      <th>4</th>\n",
              "      <td>yourselves</td>\n",
              "    </tr>\n",
              "  </tbody>\n",
              "</table>\n",
              "</div>\n",
              "    <div class=\"colab-df-buttons\">\n",
              "\n",
              "  <div class=\"colab-df-container\">\n",
              "    <button class=\"colab-df-convert\" onclick=\"convertToInteractive('df-9aeb8daf-f0b1-4b65-9090-570a77b05052')\"\n",
              "            title=\"Convert this dataframe to an interactive table.\"\n",
              "            style=\"display:none;\">\n",
              "\n",
              "  <svg xmlns=\"http://www.w3.org/2000/svg\" height=\"24px\" viewBox=\"0 -960 960 960\">\n",
              "    <path d=\"M120-120v-720h720v720H120Zm60-500h600v-160H180v160Zm220 220h160v-160H400v160Zm0 220h160v-160H400v160ZM180-400h160v-160H180v160Zm440 0h160v-160H620v160ZM180-180h160v-160H180v160Zm440 0h160v-160H620v160Z\"/>\n",
              "  </svg>\n",
              "    </button>\n",
              "\n",
              "  <style>\n",
              "    .colab-df-container {\n",
              "      display:flex;\n",
              "      gap: 12px;\n",
              "    }\n",
              "\n",
              "    .colab-df-convert {\n",
              "      background-color: #E8F0FE;\n",
              "      border: none;\n",
              "      border-radius: 50%;\n",
              "      cursor: pointer;\n",
              "      display: none;\n",
              "      fill: #1967D2;\n",
              "      height: 32px;\n",
              "      padding: 0 0 0 0;\n",
              "      width: 32px;\n",
              "    }\n",
              "\n",
              "    .colab-df-convert:hover {\n",
              "      background-color: #E2EBFA;\n",
              "      box-shadow: 0px 1px 2px rgba(60, 64, 67, 0.3), 0px 1px 3px 1px rgba(60, 64, 67, 0.15);\n",
              "      fill: #174EA6;\n",
              "    }\n",
              "\n",
              "    .colab-df-buttons div {\n",
              "      margin-bottom: 4px;\n",
              "    }\n",
              "\n",
              "    [theme=dark] .colab-df-convert {\n",
              "      background-color: #3B4455;\n",
              "      fill: #D2E3FC;\n",
              "    }\n",
              "\n",
              "    [theme=dark] .colab-df-convert:hover {\n",
              "      background-color: #434B5C;\n",
              "      box-shadow: 0px 1px 3px 1px rgba(0, 0, 0, 0.15);\n",
              "      filter: drop-shadow(0px 1px 2px rgba(0, 0, 0, 0.3));\n",
              "      fill: #FFFFFF;\n",
              "    }\n",
              "  </style>\n",
              "\n",
              "    <script>\n",
              "      const buttonEl =\n",
              "        document.querySelector('#df-9aeb8daf-f0b1-4b65-9090-570a77b05052 button.colab-df-convert');\n",
              "      buttonEl.style.display =\n",
              "        google.colab.kernel.accessAllowed ? 'block' : 'none';\n",
              "\n",
              "      async function convertToInteractive(key) {\n",
              "        const element = document.querySelector('#df-9aeb8daf-f0b1-4b65-9090-570a77b05052');\n",
              "        const dataTable =\n",
              "          await google.colab.kernel.invokeFunction('convertToInteractive',\n",
              "                                                    [key], {});\n",
              "        if (!dataTable) return;\n",
              "\n",
              "        const docLinkHtml = 'Like what you see? Visit the ' +\n",
              "          '<a target=\"_blank\" href=https://colab.research.google.com/notebooks/data_table.ipynb>data table notebook</a>'\n",
              "          + ' to learn more about interactive tables.';\n",
              "        element.innerHTML = '';\n",
              "        dataTable['output_type'] = 'display_data';\n",
              "        await google.colab.output.renderOutput(dataTable, element);\n",
              "        const docLink = document.createElement('div');\n",
              "        docLink.innerHTML = docLinkHtml;\n",
              "        element.appendChild(docLink);\n",
              "      }\n",
              "    </script>\n",
              "  </div>\n",
              "\n",
              "\n",
              "<div id=\"df-95c12271-4526-4893-8bd8-22070c645406\">\n",
              "  <button class=\"colab-df-quickchart\" onclick=\"quickchart('df-95c12271-4526-4893-8bd8-22070c645406')\"\n",
              "            title=\"Suggest charts.\"\n",
              "            style=\"display:none;\">\n",
              "\n",
              "<svg xmlns=\"http://www.w3.org/2000/svg\" height=\"24px\"viewBox=\"0 0 24 24\"\n",
              "     width=\"24px\">\n",
              "    <g>\n",
              "        <path d=\"M19 3H5c-1.1 0-2 .9-2 2v14c0 1.1.9 2 2 2h14c1.1 0 2-.9 2-2V5c0-1.1-.9-2-2-2zM9 17H7v-7h2v7zm4 0h-2V7h2v10zm4 0h-2v-4h2v4z\"/>\n",
              "    </g>\n",
              "</svg>\n",
              "  </button>\n",
              "\n",
              "<style>\n",
              "  .colab-df-quickchart {\n",
              "      --bg-color: #E8F0FE;\n",
              "      --fill-color: #1967D2;\n",
              "      --hover-bg-color: #E2EBFA;\n",
              "      --hover-fill-color: #174EA6;\n",
              "      --disabled-fill-color: #AAA;\n",
              "      --disabled-bg-color: #DDD;\n",
              "  }\n",
              "\n",
              "  [theme=dark] .colab-df-quickchart {\n",
              "      --bg-color: #3B4455;\n",
              "      --fill-color: #D2E3FC;\n",
              "      --hover-bg-color: #434B5C;\n",
              "      --hover-fill-color: #FFFFFF;\n",
              "      --disabled-bg-color: #3B4455;\n",
              "      --disabled-fill-color: #666;\n",
              "  }\n",
              "\n",
              "  .colab-df-quickchart {\n",
              "    background-color: var(--bg-color);\n",
              "    border: none;\n",
              "    border-radius: 50%;\n",
              "    cursor: pointer;\n",
              "    display: none;\n",
              "    fill: var(--fill-color);\n",
              "    height: 32px;\n",
              "    padding: 0;\n",
              "    width: 32px;\n",
              "  }\n",
              "\n",
              "  .colab-df-quickchart:hover {\n",
              "    background-color: var(--hover-bg-color);\n",
              "    box-shadow: 0 1px 2px rgba(60, 64, 67, 0.3), 0 1px 3px 1px rgba(60, 64, 67, 0.15);\n",
              "    fill: var(--button-hover-fill-color);\n",
              "  }\n",
              "\n",
              "  .colab-df-quickchart-complete:disabled,\n",
              "  .colab-df-quickchart-complete:disabled:hover {\n",
              "    background-color: var(--disabled-bg-color);\n",
              "    fill: var(--disabled-fill-color);\n",
              "    box-shadow: none;\n",
              "  }\n",
              "\n",
              "  .colab-df-spinner {\n",
              "    border: 2px solid var(--fill-color);\n",
              "    border-color: transparent;\n",
              "    border-bottom-color: var(--fill-color);\n",
              "    animation:\n",
              "      spin 1s steps(1) infinite;\n",
              "  }\n",
              "\n",
              "  @keyframes spin {\n",
              "    0% {\n",
              "      border-color: transparent;\n",
              "      border-bottom-color: var(--fill-color);\n",
              "      border-left-color: var(--fill-color);\n",
              "    }\n",
              "    20% {\n",
              "      border-color: transparent;\n",
              "      border-left-color: var(--fill-color);\n",
              "      border-top-color: var(--fill-color);\n",
              "    }\n",
              "    30% {\n",
              "      border-color: transparent;\n",
              "      border-left-color: var(--fill-color);\n",
              "      border-top-color: var(--fill-color);\n",
              "      border-right-color: var(--fill-color);\n",
              "    }\n",
              "    40% {\n",
              "      border-color: transparent;\n",
              "      border-right-color: var(--fill-color);\n",
              "      border-top-color: var(--fill-color);\n",
              "    }\n",
              "    60% {\n",
              "      border-color: transparent;\n",
              "      border-right-color: var(--fill-color);\n",
              "    }\n",
              "    80% {\n",
              "      border-color: transparent;\n",
              "      border-right-color: var(--fill-color);\n",
              "      border-bottom-color: var(--fill-color);\n",
              "    }\n",
              "    90% {\n",
              "      border-color: transparent;\n",
              "      border-bottom-color: var(--fill-color);\n",
              "    }\n",
              "  }\n",
              "</style>\n",
              "\n",
              "  <script>\n",
              "    async function quickchart(key) {\n",
              "      const quickchartButtonEl =\n",
              "        document.querySelector('#' + key + ' button');\n",
              "      quickchartButtonEl.disabled = true;  // To prevent multiple clicks.\n",
              "      quickchartButtonEl.classList.add('colab-df-spinner');\n",
              "      try {\n",
              "        const charts = await google.colab.kernel.invokeFunction(\n",
              "            'suggestCharts', [key], {});\n",
              "      } catch (error) {\n",
              "        console.error('Error during call to suggestCharts:', error);\n",
              "      }\n",
              "      quickchartButtonEl.classList.remove('colab-df-spinner');\n",
              "      quickchartButtonEl.classList.add('colab-df-quickchart-complete');\n",
              "    }\n",
              "    (() => {\n",
              "      let quickchartButtonEl =\n",
              "        document.querySelector('#df-95c12271-4526-4893-8bd8-22070c645406 button');\n",
              "      quickchartButtonEl.style.display =\n",
              "        google.colab.kernel.accessAllowed ? 'block' : 'none';\n",
              "    })();\n",
              "  </script>\n",
              "</div>\n",
              "    </div>\n",
              "  </div>\n"
            ]
          },
          "metadata": {},
          "execution_count": 8
        }
      ]
    },
    {
      "cell_type": "code",
      "source": [
        "type(words)"
      ],
      "metadata": {
        "colab": {
          "base_uri": "https://localhost:8080/"
        },
        "id": "e94-poWlH8t4",
        "outputId": "273bc2b4-558f-4e21-ee42-f866716b1e28"
      },
      "execution_count": 22,
      "outputs": [
        {
          "output_type": "execute_result",
          "data": {
            "text/plain": [
              "pandas.core.frame.DataFrame"
            ]
          },
          "metadata": {},
          "execution_count": 22
        }
      ]
    },
    {
      "cell_type": "code",
      "source": [
        "words.to_csv('/content/drive/MyDrive/Colab Notebooks/NLP_projects/stopwords_csv.csv')"
      ],
      "metadata": {
        "id": "WXx_72UpH_FS"
      },
      "execution_count": 26,
      "outputs": []
    },
    {
      "cell_type": "markdown",
      "source": [],
      "metadata": {
        "id": "vAfRIeWaICkI"
      }
    },
    {
      "cell_type": "code",
      "source": [
        "word_list = words.values.tolist()\n",
        "word_list[:5]"
      ],
      "metadata": {
        "colab": {
          "base_uri": "https://localhost:8080/"
        },
        "id": "AKUaAOGJEI69",
        "outputId": "f7b8b211-2be2-4f9b-aed9-864118f38cb5"
      },
      "execution_count": 12,
      "outputs": [
        {
          "output_type": "execute_result",
          "data": {
            "text/plain": [
              "[['y'], ['your'], ['yours'], ['yourself'], ['yourselves']]"
            ]
          },
          "metadata": {},
          "execution_count": 12
        }
      ]
    },
    {
      "cell_type": "code",
      "source": [
        "type(word_list)"
      ],
      "metadata": {
        "colab": {
          "base_uri": "https://localhost:8080/"
        },
        "id": "e5E-Ad5yE8Yn",
        "outputId": "8318fd8f-c532-4a4e-b51b-a50842ac2a5f"
      },
      "execution_count": 13,
      "outputs": [
        {
          "output_type": "execute_result",
          "data": {
            "text/plain": [
              "list"
            ]
          },
          "metadata": {},
          "execution_count": 13
        }
      ]
    },
    {
      "cell_type": "code",
      "source": [
        "modified_list = str(word_list).replace('[', '').replace(']', '')"
      ],
      "metadata": {
        "colab": {
          "base_uri": "https://localhost:8080/",
          "height": 36
        },
        "id": "3CoM2RT2FF-L",
        "outputId": "975ff547-660e-4e42-e78f-96614025a558"
      },
      "execution_count": 14,
      "outputs": [
        {
          "output_type": "execute_result",
          "data": {
            "text/plain": [
              "\"'y', \""
            ],
            "application/vnd.google.colaboratory.intrinsic+json": {
              "type": "string"
            }
          },
          "metadata": {},
          "execution_count": 14
        }
      ]
    },
    {
      "cell_type": "code",
      "source": [
        "modified_list"
      ],
      "metadata": {
        "colab": {
          "base_uri": "https://localhost:8080/",
          "height": 127
        },
        "id": "RR1Qb5XmFNmZ",
        "outputId": "041a9cf0-4ec9-4608-ab7b-eea82e10bf7f"
      },
      "execution_count": 15,
      "outputs": [
        {
          "output_type": "execute_result",
          "data": {
            "text/plain": [
              "\"'y', 'your', 'yours', 'yourself', 'yourselves', 'you', 'yond', 'yonder', 'yon', 'ye', 'yet', 'z', 'zillion', 'j', 'u', 'umpteen', 'usually', 'us', 'username', 'uponed', 'upons', 'uponing', 'upon', 'ups', 'upping', 'upped', 'up', 'unto', 'until', 'unless', 'unlike', 'unliker', 'unlikest', 'under', 'underneath', 'use', 'used', 'usedest', 'r', 'rath', 'rather', 'rathest', 'rathe', 're', 'relate', 'related', 'relatively', 'regarding', 'really', 'res', 'respecting', 'respectively', 'q', 'quite', 'que', 'qua', 'n', 'neither', 'neaths', 'neath', 'nethe', 'nethermost', 'necessary', 'necessariest', 'necessarier', 'never', 'nevertheless', 'nigh', 'nighest', 'nigher', 'nine', 'noone', 'nobody', 'nobodies', 'nowhere', 'nowheres', 'no', 'noes', 'nor', 'nos', 'no-one', 'none', 'not', 'notwithstanding', 'nothings', 'nothing', 'nathless', 'natheless', 't', 'ten', 'tills', 'till', 'tilled', 'tilling', 'to', 'towards', 'toward', 'towardest', 'towarder', 'together', 'too', 'thy', 'thyself', 'thus', 'than', 'that', 'those', 'thou', 'though', 'thous', 'thouses', 'thoroughest', 'thorougher', 'thorough', 'thoroughly', 'thru', 'thruer', 'thruest', 'thro', 'through', 'throughout', 'throughest', 'througher', 'thine', 'this', 'thises', 'they', 'thee', 'the', 'then', 'thence', 'thenest', 'thener', 'them', 'themselves', 'these', 'therer', 'there', 'thereby', 'therest', 'thereafter', 'therein', 'thereupon', 'therefore', 'their', 'theirs', 'thing', 'things', 'three', 'two', 'o', 'oh', 'owt', 'owning', 'owned', 'own', 'owns', 'others', 'other', 'otherwise', 'otherwisest', 'otherwiser', 'of', 'often', 'oftener', 'oftenest', 'off', 'offs', 'offest', 'one', 'ought', 'oughts', 'our', 'ours', 'ourselves', 'ourself', 'out', 'outest', 'outed', 'outwith', 'outs', 'outside', 'over', 'overallest', 'overaller', 'overalls', 'overall', 'overs', 'or', 'orer', 'orest', 'on', 'oneself', 'onest', 'ons', 'onto', 'a', 'atween', 'at', 'athwart', 'atop', 'afore', 'afterward', 'afterwards', 'after', 'afterest', 'afterer', 'ain', 'an', 'any', 'anything', 'anybody', 'anyone', 'anyhow', 'anywhere', 'anent', 'anear', 'and', 'andor', 'another', 'around', 'ares', 'are', 'aest', 'aer', 'against', 'again', 'accordingly', 'abaft', 'abafter', 'abaftest', 'abovest', 'above', 'abover', 'abouter', 'aboutest', 'about', 'aid', 'amidst', 'amid', 'among', 'amongst', 'apartest', 'aparter', 'apart', 'appeared', 'appears', 'appear', 'appearing', 'appropriating', 'appropriate', 'appropriatest', 'appropriates', 'appropriater', 'appropriated', 'already', 'always', 'also', 'along', 'alongside', 'although', 'almost', 'all', 'allest', 'aller', 'allyou', 'alls', 'albeit', 'awfully', 'as', 'aside', 'asides', 'aslant', 'ases', 'astrider', 'astride', 'astridest', 'astraddlest', 'astraddler', 'astraddle', 'availablest', 'availabler', 'available', 'aughts', 'aught', 'vs', 'v', 'variousest', 'variouser', 'various', 'via', 'vis-a-vis', 'vis-a-viser', 'vis-a-visest', 'viz', 'very', 'veriest', 'verier', 'versus', 'k', 'g', 'go', 'gone', 'good', 'got', 'gotta', 'gotten', 'get', 'gets', 'getting', 'b', 'by', 'byandby', 'by-and-by', 'bist', 'both', 'but', 'buts', 'be', 'beyond', 'because', 'became', 'becomes', 'become', 'becoming', 'becomings', 'becominger', 'becomingest', 'behind', 'behinds', 'before', 'beforehand', 'beforehandest', 'beforehander', 'bettered', 'betters', 'better', 'bettering', 'betwixt', 'between', 'beneath', 'been', 'below', 'besides', 'beside', 'm', 'my', 'myself', 'mucher', 'muchest', 'much', 'must', 'musts', 'musths', 'musth', 'main', 'make', 'mayest', 'many', 'mauger', 'maugre', 'me', 'meanwhiles', 'meanwhile', 'mostly', 'most', 'moreover', 'more', 'might', 'mights', 'midst', 'midsts', 'h', 'huh', 'humph', 'he', 'hers', 'herself', 'her', 'hereby', 'herein', 'hereafters', 'hereafter', 'hereupon', 'hence', 'hadst', 'had', 'having', 'haves', 'have', 'has', 'hast', 'hardly', 'hae', 'hath', 'him', 'himself', 'hither', 'hitherest', 'hitherer', 'his', 'how-do-you-do', 'however', 'how', 'howbeit', 'howdoyoudo', 'hoos', 'hoo', 'w', 'woulded', 'woulding', 'would', 'woulds', 'was', 'wast', 'we', 'wert', 'were', 'with', 'withal', 'without', 'within', 'why', 'what', 'whatever', 'whateverer', 'whateverest', 'whatsoeverer', 'whatsoeverest', 'whatsoever', 'whence', 'whencesoever', 'whenever', 'whensoever', 'when', 'whenas', 'whether', 'wheen', 'whereto', 'whereupon', 'wherever', 'whereon', 'whereof', 'where', 'whereby', 'wherewithal', 'wherewith', 'whereinto', 'wherein', 'whereafter', 'whereas', 'wheresoever', 'wherefrom', 'which', 'whichever', 'whichsoever', 'whilst', 'while', 'whiles', 'whithersoever', 'whither', 'whoever', 'whosoever', 'whoso', 'whose', 'whomever', 's', 'syne', 'syn', 'shalling', 'shall', 'shalled', 'shalls', 'shoulding', 'should', 'shoulded', 'shoulds', 'she', 'sayyid', 'sayid', 'said', 'saider', 'saidest', 'same', 'samest', 'sames', 'samer', 'saved', 'sans', 'sanses', 'sanserifs', 'sanserif', 'so', 'soer', 'soest', 'sobeit', 'someone', 'somebody', 'somehow', 'some', 'somewhere', 'somewhat', 'something', 'sometimest', 'sometimes', 'sometimer', 'sometime', 'several', 'severaler', 'severalest', 'serious', 'seriousest', 'seriouser', 'senza', 'send', 'sent', 'seem', 'seems', 'seemed', 'seemingest', 'seeminger', 'seemings', 'seven', 'summat', 'sups', 'sup', 'supping', 'supped', 'such', 'since', 'sine', 'sines', 'sith', 'six', 'stop', 'stopped', 'p', 'plaintiff', 'plenty', 'plenties', 'please', 'pleased', 'pleases', 'per', 'perhaps', 'particulars', 'particularly', 'particular', 'particularest', 'particularer', 'pro', 'providing', 'provides', 'provided', 'provide', 'probably', 'l', 'layabout', 'layabouts', 'latter', 'latterest', 'latterer', 'latterly', 'latters', 'lots', 'lotting', 'lotted', 'lot', 'lest', 'less', 'ie', 'ifs', 'if', 'i', 'info', 'information', 'itself', 'its', 'it', 'is', 'idem', 'idemer', 'idemest', 'immediate', 'immediately', 'immediatest', 'immediater', 'in', 'inwards', 'inwardest', 'inwarder', 'inward', 'inasmuch', 'into', 'instead', 'insofar', 'indicates', 'indicated', 'indicate', 'indicating', 'indeed', 'inc', 'f', 'fact', 'facts', 'fs', 'figupon', 'figupons', 'figuponing', 'figuponed', 'few', 'fewer', 'fewest', 'frae', 'from', 'failing', 'failings', 'five', 'furthers', 'furtherer', 'furthered', 'furtherest', 'further', 'furthering', 'furthermore', 'fourscore', 'followthrough', 'for', 'forwhy', 'fornenst', 'formerly', 'former', 'formerer', 'formerest', 'formers', 'forbye', 'forby', 'fore', 'forever', 'forer', 'fores', 'four', 'd', 'ddays', 'dday', 'do', 'doing', 'doings', 'doe', 'does', 'doth', 'downwarder', 'downwardest', 'downward', 'downwards', 'downs', 'done', 'doner', 'dones', 'donest', 'dos', 'dost', 'did', 'differentest', 'differenter', 'different', 'describing', 'describe', 'describes', 'described', 'despiting', 'despites', 'despited', 'despite', 'during', 'c', 'cum', 'circa', 'chez', 'cer', 'certain', 'certainest', 'certainer', 'cest', 'canst', 'cannot', 'cant', 'cants', 'canting', 'cantest', 'canted', 'co', 'could', 'couldst', 'comeon', 'comeons', 'come-ons', 'come-on', 'concerning', 'concerninger', 'concerningest', 'consequently', 'considering', 'e', 'eg', 'eight', 'either', 'even', 'evens', 'evenser', 'evensest', 'evened', 'evenest', 'ever', 'everyone', 'everything', 'everybody', 'everywhere', 'every', 'ere', 'each', 'et', 'etc', 'elsewhere', 'else', 'ex', 'excepted', 'excepts', 'except', 'excepting', 'exes', 'enough'\""
            ],
            "application/vnd.google.colaboratory.intrinsic+json": {
              "type": "string"
            }
          },
          "metadata": {},
          "execution_count": 15
        }
      ]
    },
    {
      "cell_type": "code",
      "source": [
        "with open('stopword_list.csv', \"w\", newline='') as file:\n",
        "  writer = csv.writer(file)\n",
        "  writer.writerow(modified_list)\n"
      ],
      "metadata": {
        "id": "dvQJ7jMpFeHt"
      },
      "execution_count": 20,
      "outputs": []
    },
    {
      "cell_type": "code",
      "source": [],
      "metadata": {
        "colab": {
          "base_uri": "https://localhost:8080/",
          "height": 181
        },
        "id": "eEVcYDwIHMCS",
        "outputId": "60ebbc79-bac2-4fd2-a2d2-064b1be3e4c4"
      },
      "execution_count": 21,
      "outputs": [
        {
          "output_type": "error",
          "ename": "NameError",
          "evalue": "ignored",
          "traceback": [
            "\u001b[0;31m---------------------------------------------------------------------------\u001b[0m",
            "\u001b[0;31mNameError\u001b[0m                                 Traceback (most recent call last)",
            "\u001b[0;32m<ipython-input-21-681db8b7f3e2>\u001b[0m in \u001b[0;36m<cell line: 1>\u001b[0;34m()\u001b[0m\n\u001b[0;32m----> 1\u001b[0;31m \u001b[0mstopword_list\u001b[0m\u001b[0;34m\u001b[0m\u001b[0;34m\u001b[0m\u001b[0m\n\u001b[0m",
            "\u001b[0;31mNameError\u001b[0m: name 'stopword_list' is not defined"
          ]
        }
      ]
    }
  ]
}